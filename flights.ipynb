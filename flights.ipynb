{
  "cells": [
    {
      "cell_type": "code",
      "execution_count": 7,
      "id": "ea8afbf2",
      "metadata": {
        "id": "ea8afbf2"
      },
      "outputs": [],
      "source": [
        "import math\n",
        "import pandas as pd\n",
        "import matplotlib.pyplot as plt\n",
        "import seaborn as sns"
      ]
    },
    {
      "cell_type": "code",
      "execution_count": 8,
      "id": "4c189ece",
      "metadata": {
        "id": "4c189ece"
      },
      "outputs": [],
      "source": [
        "df = pd.read_csv('flights.csv')"
      ]
    },
    {
      "cell_type": "code",
      "execution_count": 9,
      "id": "906102d9",
      "metadata": {
        "colab": {
          "base_uri": "https://localhost:8080/",
          "height": 236
        },
        "id": "906102d9",
        "outputId": "12a24db7-87b6-4425-907a-4b4642c08ad7"
      },
      "outputs": [
        {
          "data": {
            "text/html": [
              "<div>\n",
              "<style scoped>\n",
              "    .dataframe tbody tr th:only-of-type {\n",
              "        vertical-align: middle;\n",
              "    }\n",
              "\n",
              "    .dataframe tbody tr th {\n",
              "        vertical-align: top;\n",
              "    }\n",
              "\n",
              "    .dataframe thead th {\n",
              "        text-align: right;\n",
              "    }\n",
              "</style>\n",
              "<table border=\"1\" class=\"dataframe\">\n",
              "  <thead>\n",
              "    <tr style=\"text-align: right;\">\n",
              "      <th></th>\n",
              "      <th>year</th>\n",
              "      <th>month</th>\n",
              "      <th>day</th>\n",
              "      <th>dep_delay</th>\n",
              "      <th>arr_delay</th>\n",
              "      <th>origin</th>\n",
              "      <th>dest</th>\n",
              "      <th>flight</th>\n",
              "      <th>tailnum</th>\n",
              "      <th>distance</th>\n",
              "      <th>air_time</th>\n",
              "      <th>carrier</th>\n",
              "      <th>name</th>\n",
              "      <th>date</th>\n",
              "    </tr>\n",
              "  </thead>\n",
              "  <tbody>\n",
              "    <tr>\n",
              "      <th>82948</th>\n",
              "      <td>2013</td>\n",
              "      <td>11</td>\n",
              "      <td>30</td>\n",
              "      <td>-14.0</td>\n",
              "      <td>-41.0</td>\n",
              "      <td>LGA</td>\n",
              "      <td>MCO</td>\n",
              "      <td>299</td>\n",
              "      <td>N709JB</td>\n",
              "      <td>950</td>\n",
              "      <td>132.0</td>\n",
              "      <td>B6</td>\n",
              "      <td>JetBlue Airways</td>\n",
              "      <td>2013-11-30</td>\n",
              "    </tr>\n",
              "    <tr>\n",
              "      <th>177682</th>\n",
              "      <td>2013</td>\n",
              "      <td>4</td>\n",
              "      <td>14</td>\n",
              "      <td>-2.0</td>\n",
              "      <td>8.0</td>\n",
              "      <td>EWR</td>\n",
              "      <td>ORD</td>\n",
              "      <td>3697</td>\n",
              "      <td>N539MQ</td>\n",
              "      <td>719</td>\n",
              "      <td>126.0</td>\n",
              "      <td>MQ</td>\n",
              "      <td>Envoy Air</td>\n",
              "      <td>2013-04-14</td>\n",
              "    </tr>\n",
              "    <tr>\n",
              "      <th>307702</th>\n",
              "      <td>2013</td>\n",
              "      <td>8</td>\n",
              "      <td>30</td>\n",
              "      <td>-3.0</td>\n",
              "      <td>-30.0</td>\n",
              "      <td>LGA</td>\n",
              "      <td>MSP</td>\n",
              "      <td>2119</td>\n",
              "      <td>N341NW</td>\n",
              "      <td>1020</td>\n",
              "      <td>138.0</td>\n",
              "      <td>DL</td>\n",
              "      <td>Delta Air Lines Inc.</td>\n",
              "      <td>2013-08-30</td>\n",
              "    </tr>\n",
              "    <tr>\n",
              "      <th>86505</th>\n",
              "      <td>2013</td>\n",
              "      <td>12</td>\n",
              "      <td>4</td>\n",
              "      <td>14.0</td>\n",
              "      <td>4.0</td>\n",
              "      <td>JFK</td>\n",
              "      <td>SYR</td>\n",
              "      <td>316</td>\n",
              "      <td>N187JB</td>\n",
              "      <td>209</td>\n",
              "      <td>45.0</td>\n",
              "      <td>B6</td>\n",
              "      <td>JetBlue Airways</td>\n",
              "      <td>2013-12-04</td>\n",
              "    </tr>\n",
              "    <tr>\n",
              "      <th>903</th>\n",
              "      <td>2013</td>\n",
              "      <td>1</td>\n",
              "      <td>2</td>\n",
              "      <td>5.0</td>\n",
              "      <td>-9.0</td>\n",
              "      <td>EWR</td>\n",
              "      <td>PHX</td>\n",
              "      <td>908</td>\n",
              "      <td>N406UA</td>\n",
              "      <td>2133</td>\n",
              "      <td>299.0</td>\n",
              "      <td>UA</td>\n",
              "      <td>United Air Lines Inc.</td>\n",
              "      <td>2013-01-02</td>\n",
              "    </tr>\n",
              "  </tbody>\n",
              "</table>\n",
              "</div>"
            ],
            "text/plain": [
              "        year  month  day  dep_delay  arr_delay origin dest  flight tailnum  \\\n",
              "82948   2013     11   30      -14.0      -41.0    LGA  MCO     299  N709JB   \n",
              "177682  2013      4   14       -2.0        8.0    EWR  ORD    3697  N539MQ   \n",
              "307702  2013      8   30       -3.0      -30.0    LGA  MSP    2119  N341NW   \n",
              "86505   2013     12    4       14.0        4.0    JFK  SYR     316  N187JB   \n",
              "903     2013      1    2        5.0       -9.0    EWR  PHX     908  N406UA   \n",
              "\n",
              "        distance  air_time carrier                   name        date  \n",
              "82948        950     132.0      B6        JetBlue Airways  2013-11-30  \n",
              "177682       719     126.0      MQ              Envoy Air  2013-04-14  \n",
              "307702      1020     138.0      DL   Delta Air Lines Inc.  2013-08-30  \n",
              "86505        209      45.0      B6        JetBlue Airways  2013-12-04  \n",
              "903         2133     299.0      UA  United Air Lines Inc.  2013-01-02  "
            ]
          },
          "execution_count": 9,
          "metadata": {},
          "output_type": "execute_result"
        }
      ],
      "source": [
        "df.sample(5)"
      ]
    }
  ],
  "metadata": {
    "colab": {
      "provenance": []
    },
    "kernelspec": {
      "display_name": "venv",
      "language": "python",
      "name": "python3"
    },
    "language_info": {
      "codemirror_mode": {
        "name": "ipython",
        "version": 3
      },
      "file_extension": ".py",
      "mimetype": "text/x-python",
      "name": "python",
      "nbconvert_exporter": "python",
      "pygments_lexer": "ipython3",
      "version": "3.13.7"
    }
  },
  "nbformat": 4,
  "nbformat_minor": 5
}
