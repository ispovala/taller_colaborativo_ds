{
  "cells": [
    {
      "cell_type": "code",
      "execution_count": 1,
      "id": "ea8afbf2",
      "metadata": {
        "id": "ea8afbf2"
      },
      "outputs": [],
      "source": [
        "import math\n",
        "import pandas as pd\n",
        "import matplotlib.pyplot as plt\n",
        "import seaborn as sns"
      ]
    },
    {
      "cell_type": "code",
      "execution_count": 2,
      "id": "4c189ece",
      "metadata": {
        "id": "4c189ece"
      },
      "outputs": [],
      "source": [
        "df = pd.read_csv('flights.csv')"
      ]
    },
    {
      "cell_type": "code",
      "execution_count": 3,
      "id": "906102d9",
      "metadata": {
        "colab": {
          "base_uri": "https://localhost:8080/",
          "height": 236
        },
        "id": "906102d9",
        "outputId": "12a24db7-87b6-4425-907a-4b4642c08ad7"
      },
      "outputs": [
        {
          "data": {
            "text/html": [
              "<div>\n",
              "<style scoped>\n",
              "    .dataframe tbody tr th:only-of-type {\n",
              "        vertical-align: middle;\n",
              "    }\n",
              "\n",
              "    .dataframe tbody tr th {\n",
              "        vertical-align: top;\n",
              "    }\n",
              "\n",
              "    .dataframe thead th {\n",
              "        text-align: right;\n",
              "    }\n",
              "</style>\n",
              "<table border=\"1\" class=\"dataframe\">\n",
              "  <thead>\n",
              "    <tr style=\"text-align: right;\">\n",
              "      <th></th>\n",
              "      <th>year</th>\n",
              "      <th>month</th>\n",
              "      <th>day</th>\n",
              "      <th>dep_delay</th>\n",
              "      <th>arr_delay</th>\n",
              "      <th>origin</th>\n",
              "      <th>dest</th>\n",
              "      <th>flight</th>\n",
              "      <th>tailnum</th>\n",
              "      <th>distance</th>\n",
              "      <th>air_time</th>\n",
              "      <th>carrier</th>\n",
              "      <th>name</th>\n",
              "      <th>date</th>\n",
              "    </tr>\n",
              "  </thead>\n",
              "  <tbody>\n",
              "    <tr>\n",
              "      <th>273082</th>\n",
              "      <td>2013</td>\n",
              "      <td>7</td>\n",
              "      <td>24</td>\n",
              "      <td>0.0</td>\n",
              "      <td>20.0</td>\n",
              "      <td>JFK</td>\n",
              "      <td>DEN</td>\n",
              "      <td>97</td>\n",
              "      <td>N657JB</td>\n",
              "      <td>1626</td>\n",
              "      <td>223.0</td>\n",
              "      <td>B6</td>\n",
              "      <td>JetBlue Airways</td>\n",
              "      <td>2013-07-24</td>\n",
              "    </tr>\n",
              "    <tr>\n",
              "      <th>336434</th>\n",
              "      <td>2013</td>\n",
              "      <td>9</td>\n",
              "      <td>30</td>\n",
              "      <td>-3.0</td>\n",
              "      <td>-8.0</td>\n",
              "      <td>JFK</td>\n",
              "      <td>BUF</td>\n",
              "      <td>2302</td>\n",
              "      <td>N273JB</td>\n",
              "      <td>301</td>\n",
              "      <td>56.0</td>\n",
              "      <td>B6</td>\n",
              "      <td>JetBlue Airways</td>\n",
              "      <td>2013-09-30</td>\n",
              "    </tr>\n",
              "    <tr>\n",
              "      <th>334015</th>\n",
              "      <td>2013</td>\n",
              "      <td>9</td>\n",
              "      <td>27</td>\n",
              "      <td>-5.0</td>\n",
              "      <td>-23.0</td>\n",
              "      <td>LGA</td>\n",
              "      <td>CLE</td>\n",
              "      <td>3674</td>\n",
              "      <td>N532MQ</td>\n",
              "      <td>419</td>\n",
              "      <td>60.0</td>\n",
              "      <td>MQ</td>\n",
              "      <td>Envoy Air</td>\n",
              "      <td>2013-09-27</td>\n",
              "    </tr>\n",
              "    <tr>\n",
              "      <th>160186</th>\n",
              "      <td>2013</td>\n",
              "      <td>3</td>\n",
              "      <td>26</td>\n",
              "      <td>-9.0</td>\n",
              "      <td>-14.0</td>\n",
              "      <td>JFK</td>\n",
              "      <td>DCA</td>\n",
              "      <td>4410</td>\n",
              "      <td>N856MQ</td>\n",
              "      <td>213</td>\n",
              "      <td>39.0</td>\n",
              "      <td>MQ</td>\n",
              "      <td>Envoy Air</td>\n",
              "      <td>2013-03-26</td>\n",
              "    </tr>\n",
              "    <tr>\n",
              "      <th>316818</th>\n",
              "      <td>2013</td>\n",
              "      <td>9</td>\n",
              "      <td>9</td>\n",
              "      <td>1.0</td>\n",
              "      <td>-20.0</td>\n",
              "      <td>JFK</td>\n",
              "      <td>SJU</td>\n",
              "      <td>703</td>\n",
              "      <td>N656JB</td>\n",
              "      <td>1598</td>\n",
              "      <td>195.0</td>\n",
              "      <td>B6</td>\n",
              "      <td>JetBlue Airways</td>\n",
              "      <td>2013-09-09</td>\n",
              "    </tr>\n",
              "  </tbody>\n",
              "</table>\n",
              "</div>"
            ],
            "text/plain": [
              "        year  month  day  dep_delay  arr_delay origin dest  flight tailnum  \\\n",
              "273082  2013      7   24        0.0       20.0    JFK  DEN      97  N657JB   \n",
              "336434  2013      9   30       -3.0       -8.0    JFK  BUF    2302  N273JB   \n",
              "334015  2013      9   27       -5.0      -23.0    LGA  CLE    3674  N532MQ   \n",
              "160186  2013      3   26       -9.0      -14.0    JFK  DCA    4410  N856MQ   \n",
              "316818  2013      9    9        1.0      -20.0    JFK  SJU     703  N656JB   \n",
              "\n",
              "        distance  air_time carrier             name        date  \n",
              "273082      1626     223.0      B6  JetBlue Airways  2013-07-24  \n",
              "336434       301      56.0      B6  JetBlue Airways  2013-09-30  \n",
              "334015       419      60.0      MQ        Envoy Air  2013-09-27  \n",
              "160186       213      39.0      MQ        Envoy Air  2013-03-26  \n",
              "316818      1598     195.0      B6  JetBlue Airways  2013-09-09  "
            ]
          },
          "execution_count": 3,
          "metadata": {},
          "output_type": "execute_result"
        }
      ],
      "source": [
        "df.sample(5)"
      ]
    },
    {
      "cell_type": "code",
      "execution_count": 4,
      "id": "cee2ecd0",
      "metadata": {},
      "outputs": [
        {
          "name": "stdout",
          "output_type": "stream",
          "text": [
            "Numerical columns: ['year', 'month', 'day', 'dep_delay', 'arr_delay', 'flight', 'distance', 'air_time']\n",
            "\n",
            "Missing values in numerical columns:\n",
            "dep_delay: 8255 missing values (2.45%)\n",
            "arr_delay: 9430 missing values (2.80%)\n",
            "air_time: 9430 missing values (2.80%)\n"
          ]
        }
      ],
      "source": [
        "# Identify numerical columns\n",
        "numerical_columns = df.select_dtypes(include=['int64', 'float64']).columns.tolist()\n",
        "print(\"Numerical columns:\", numerical_columns)\n",
        "\n",
        "# Check missing values in numerical columns specifically\n",
        "print(\"\\nMissing values in numerical columns:\")\n",
        "for col in numerical_columns:\n",
        "    missing_count = df[col].isnull().sum()\n",
        "    if missing_count > 0:\n",
        "        print(f\"{col}: {missing_count} missing values ({missing_count/len(df)*100:.2f}%)\")\n"
      ]
    },
    {
      "cell_type": "code",
      "execution_count": 5,
      "id": "89b1de55",
      "metadata": {},
      "outputs": [
        {
          "name": "stdout",
          "output_type": "stream",
          "text": [
            "Before imputation - Missing values:\n",
            "year            0\n",
            "month           0\n",
            "day             0\n",
            "dep_delay    8255\n",
            "arr_delay    9430\n",
            "flight          0\n",
            "distance        0\n",
            "air_time     9430\n",
            "dtype: int64\n",
            "Imputed dep_delay with median: -2.0\n",
            "Imputed arr_delay with median: -5.0\n",
            "Imputed air_time with median: 129.0\n",
            "\n",
            "After imputation - Missing values:\n",
            "year         0\n",
            "month        0\n",
            "day          0\n",
            "dep_delay    0\n",
            "arr_delay    0\n",
            "flight       0\n",
            "distance     0\n",
            "air_time     0\n",
            "dtype: int64\n"
          ]
        }
      ],
      "source": [
        "# Impute missing values in numerical columns with median\n",
        "print(\"Before imputation - Missing values:\")\n",
        "print(df[numerical_columns].isnull().sum())\n",
        "\n",
        "# Create a copy of the dataframe to preserve original data\n",
        "df_imputed = df.copy()\n",
        "\n",
        "# Impute missing values with median for each numerical column\n",
        "for col in numerical_columns:\n",
        "    if df_imputed[col].isnull().sum() > 0:\n",
        "        median_value = df_imputed[col].median()\n",
        "        df_imputed[col] = df_imputed[col].fillna(median_value)\n",
        "        print(f\"Imputed {col} with median: {median_value}\")\n",
        "\n",
        "print(\"\\nAfter imputation - Missing values:\")\n",
        "print(df_imputed[numerical_columns].isnull().sum())\n"
      ]
    }
  ],
  "metadata": {
    "colab": {
      "provenance": []
    },
    "kernelspec": {
      "display_name": "venv",
      "language": "python",
      "name": "python3"
    },
    "language_info": {
      "codemirror_mode": {
        "name": "ipython",
        "version": 3
      },
      "file_extension": ".py",
      "mimetype": "text/x-python",
      "name": "python",
      "nbconvert_exporter": "python",
      "pygments_lexer": "ipython3",
      "version": "3.13.7"
    }
  },
  "nbformat": 4,
  "nbformat_minor": 5
}
