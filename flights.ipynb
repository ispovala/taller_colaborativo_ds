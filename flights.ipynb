{
  "cells": [
    {
      "cell_type": "code",
      "execution_count": 6,
      "id": "ea8afbf2",
      "metadata": {
        "id": "ea8afbf2"
      },
      "outputs": [],
      "source": [
        "import math\n",
        "import pandas as pd\n",
        "import matplotlib.pyplot as plt\n",
        "import seaborn as sns"
      ]
    },
    {
      "cell_type": "code",
      "execution_count": 7,
      "id": "4c189ece",
      "metadata": {
        "id": "4c189ece"
      },
      "outputs": [],
      "source": [
        "df = pd.read_csv('flights.csv')"
      ]
    },
    {
      "cell_type": "code",
      "execution_count": 8,
      "id": "906102d9",
      "metadata": {
        "colab": {
          "base_uri": "https://localhost:8080/",
          "height": 236
        },
        "id": "906102d9",
        "outputId": "12a24db7-87b6-4425-907a-4b4642c08ad7"
      },
      "outputs": [
        {
          "data": {
            "text/html": [
              "<div>\n",
              "<style scoped>\n",
              "    .dataframe tbody tr th:only-of-type {\n",
              "        vertical-align: middle;\n",
              "    }\n",
              "\n",
              "    .dataframe tbody tr th {\n",
              "        vertical-align: top;\n",
              "    }\n",
              "\n",
              "    .dataframe thead th {\n",
              "        text-align: right;\n",
              "    }\n",
              "</style>\n",
              "<table border=\"1\" class=\"dataframe\">\n",
              "  <thead>\n",
              "    <tr style=\"text-align: right;\">\n",
              "      <th></th>\n",
              "      <th>year</th>\n",
              "      <th>month</th>\n",
              "      <th>day</th>\n",
              "      <th>dep_delay</th>\n",
              "      <th>arr_delay</th>\n",
              "      <th>origin</th>\n",
              "      <th>dest</th>\n",
              "      <th>flight</th>\n",
              "      <th>tailnum</th>\n",
              "      <th>distance</th>\n",
              "      <th>air_time</th>\n",
              "      <th>carrier</th>\n",
              "      <th>name</th>\n",
              "      <th>date</th>\n",
              "    </tr>\n",
              "  </thead>\n",
              "  <tbody>\n",
              "    <tr>\n",
              "      <th>178732</th>\n",
              "      <td>2013</td>\n",
              "      <td>4</td>\n",
              "      <td>15</td>\n",
              "      <td>-2.0</td>\n",
              "      <td>-16.0</td>\n",
              "      <td>EWR</td>\n",
              "      <td>BDL</td>\n",
              "      <td>5670</td>\n",
              "      <td>N13968</td>\n",
              "      <td>116</td>\n",
              "      <td>25.0</td>\n",
              "      <td>EV</td>\n",
              "      <td>ExpressJet Airlines Inc.</td>\n",
              "      <td>2013-04-15</td>\n",
              "    </tr>\n",
              "    <tr>\n",
              "      <th>42310</th>\n",
              "      <td>2013</td>\n",
              "      <td>10</td>\n",
              "      <td>17</td>\n",
              "      <td>0.0</td>\n",
              "      <td>-25.0</td>\n",
              "      <td>LGA</td>\n",
              "      <td>BGR</td>\n",
              "      <td>5309</td>\n",
              "      <td>N720EV</td>\n",
              "      <td>378</td>\n",
              "      <td>51.0</td>\n",
              "      <td>EV</td>\n",
              "      <td>ExpressJet Airlines Inc.</td>\n",
              "      <td>2013-10-17</td>\n",
              "    </tr>\n",
              "    <tr>\n",
              "      <th>281092</th>\n",
              "      <td>2013</td>\n",
              "      <td>8</td>\n",
              "      <td>2</td>\n",
              "      <td>-7.0</td>\n",
              "      <td>-7.0</td>\n",
              "      <td>EWR</td>\n",
              "      <td>FLL</td>\n",
              "      <td>5</td>\n",
              "      <td>N715JB</td>\n",
              "      <td>1065</td>\n",
              "      <td>153.0</td>\n",
              "      <td>B6</td>\n",
              "      <td>JetBlue Airways</td>\n",
              "      <td>2013-08-02</td>\n",
              "    </tr>\n",
              "    <tr>\n",
              "      <th>85181</th>\n",
              "      <td>2013</td>\n",
              "      <td>12</td>\n",
              "      <td>3</td>\n",
              "      <td>2.0</td>\n",
              "      <td>-10.0</td>\n",
              "      <td>EWR</td>\n",
              "      <td>MDW</td>\n",
              "      <td>485</td>\n",
              "      <td>N229WN</td>\n",
              "      <td>711</td>\n",
              "      <td>113.0</td>\n",
              "      <td>WN</td>\n",
              "      <td>Southwest Airlines Co.</td>\n",
              "      <td>2013-12-03</td>\n",
              "    </tr>\n",
              "    <tr>\n",
              "      <th>29925</th>\n",
              "      <td>2013</td>\n",
              "      <td>10</td>\n",
              "      <td>3</td>\n",
              "      <td>-4.0</td>\n",
              "      <td>-13.0</td>\n",
              "      <td>JFK</td>\n",
              "      <td>PWM</td>\n",
              "      <td>108</td>\n",
              "      <td>N228JB</td>\n",
              "      <td>273</td>\n",
              "      <td>45.0</td>\n",
              "      <td>B6</td>\n",
              "      <td>JetBlue Airways</td>\n",
              "      <td>2013-10-03</td>\n",
              "    </tr>\n",
              "  </tbody>\n",
              "</table>\n",
              "</div>"
            ],
            "text/plain": [
              "        year  month  day  dep_delay  arr_delay origin dest  flight tailnum  \\\n",
              "178732  2013      4   15       -2.0      -16.0    EWR  BDL    5670  N13968   \n",
              "42310   2013     10   17        0.0      -25.0    LGA  BGR    5309  N720EV   \n",
              "281092  2013      8    2       -7.0       -7.0    EWR  FLL       5  N715JB   \n",
              "85181   2013     12    3        2.0      -10.0    EWR  MDW     485  N229WN   \n",
              "29925   2013     10    3       -4.0      -13.0    JFK  PWM     108  N228JB   \n",
              "\n",
              "        distance  air_time carrier                      name        date  \n",
              "178732       116      25.0      EV  ExpressJet Airlines Inc.  2013-04-15  \n",
              "42310        378      51.0      EV  ExpressJet Airlines Inc.  2013-10-17  \n",
              "281092      1065     153.0      B6           JetBlue Airways  2013-08-02  \n",
              "85181        711     113.0      WN    Southwest Airlines Co.  2013-12-03  \n",
              "29925        273      45.0      B6           JetBlue Airways  2013-10-03  "
            ]
          },
          "execution_count": 8,
          "metadata": {},
          "output_type": "execute_result"
        }
      ],
      "source": [
        "df.sample(5)"
      ]
    },
    {
      "cell_type": "code",
      "execution_count": 9,
      "id": "41878ce4",
      "metadata": {},
      "outputs": [
        {
          "data": {
            "text/plain": [
              "year           int64\n",
              "month          int64\n",
              "day            int64\n",
              "dep_delay    float64\n",
              "arr_delay    float64\n",
              "origin        object\n",
              "dest          object\n",
              "flight         int64\n",
              "tailnum       object\n",
              "distance       int64\n",
              "air_time     float64\n",
              "carrier       object\n",
              "name          object\n",
              "date          object\n",
              "dtype: object"
            ]
          },
          "execution_count": 9,
          "metadata": {},
          "output_type": "execute_result"
        }
      ],
      "source": [
        "df.dtypes"
      ]
    },
    {
      "cell_type": "code",
      "execution_count": 10,
      "id": "af330fbc",
      "metadata": {},
      "outputs": [
        {
          "name": "stdout",
          "output_type": "stream",
          "text": [
            "<class 'pandas.core.frame.DataFrame'>\n",
            "RangeIndex: 336776 entries, 0 to 336775\n",
            "Data columns (total 14 columns):\n",
            " #   Column     Non-Null Count   Dtype  \n",
            "---  ------     --------------   -----  \n",
            " 0   year       336776 non-null  int64  \n",
            " 1   month      336776 non-null  int64  \n",
            " 2   day        336776 non-null  int64  \n",
            " 3   dep_delay  328521 non-null  float64\n",
            " 4   arr_delay  327346 non-null  float64\n",
            " 5   origin     336776 non-null  object \n",
            " 6   dest       336776 non-null  object \n",
            " 7   flight     336776 non-null  int64  \n",
            " 8   tailnum    334264 non-null  object \n",
            " 9   distance   336776 non-null  int64  \n",
            " 10  air_time   327346 non-null  float64\n",
            " 11  carrier    336776 non-null  object \n",
            " 12  name       336776 non-null  object \n",
            " 13  date       336776 non-null  object \n",
            "dtypes: float64(3), int64(5), object(6)\n",
            "memory usage: 36.0+ MB\n"
          ]
        }
      ],
      "source": [
        "df.info()"
      ]
    },
    {
      "cell_type": "code",
      "execution_count": 11,
      "id": "fa354be6",
      "metadata": {},
      "outputs": [
        {
          "name": "stdout",
          "output_type": "stream",
          "text": [
            "Numerical columns: ['year', 'month', 'day', 'dep_delay', 'arr_delay', 'flight', 'distance', 'air_time']\n",
            "\n",
            "Missing values in numerical columns:\n",
            "dep_delay: 8255 missing values (2.45%)\n",
            "arr_delay: 9430 missing values (2.80%)\n",
            "air_time: 9430 missing values (2.80%)\n"
          ]
        }
      ],
      "source": [
        "\n",
        "# Identify numerical columns\n",
        "numerical_columns = df.select_dtypes(include=['int64', 'float64']).columns.tolist()\n",
        "print(\"Numerical columns:\", numerical_columns)\n",
        "\n",
        "# Check missing values in numerical columns specifically\n",
        "print(\"\\nMissing values in numerical columns:\")\n",
        "for col in numerical_columns:\n",
        "    missing_count = df[col].isnull().sum()\n",
        "    if missing_count > 0:\n",
        "        print(f\"{col}: {missing_count} missing values ({missing_count/len(df)*100:.2f}%)\")\n"
      ]
    },
    {
      "cell_type": "code",
      "execution_count": 12,
      "id": "89b1de55",
      "metadata": {},
      "outputs": [
        {
          "name": "stdout",
          "output_type": "stream",
          "text": [
            "Before imputation - Missing values:\n",
            "year            0\n",
            "month           0\n",
            "day             0\n",
            "dep_delay    8255\n",
            "arr_delay    9430\n",
            "flight          0\n",
            "distance        0\n",
            "air_time     9430\n",
            "dtype: int64\n",
            "Imputed dep_delay with median: -2.0\n",
            "Imputed arr_delay with median: -5.0\n",
            "Imputed air_time with median: 129.0\n",
            "\n",
            "After imputation - Missing values:\n",
            "year         0\n",
            "month        0\n",
            "day          0\n",
            "dep_delay    0\n",
            "arr_delay    0\n",
            "flight       0\n",
            "distance     0\n",
            "air_time     0\n",
            "dtype: int64\n"
          ]
        }
      ],
      "source": [
        "# Impute missing values in numerical columns with median\n",
        "print(\"Before imputation - Missing values:\")\n",
        "print(df[numerical_columns].isnull().sum())\n",
        "\n",
        "# Create a copy of the dataframe to preserve original data\n",
        "df_imputed = df.copy()\n",
        "\n",
        "# Impute missing values with median for each numerical column\n",
        "for col in numerical_columns:\n",
        "    if df_imputed[col].isnull().sum() > 0:\n",
        "        median_value = df_imputed[col].median()\n",
        "        df_imputed[col] = df_imputed[col].fillna(median_value)\n",
        "        print(f\"Imputed {col} with median: {median_value}\")\n",
        "\n",
        "print(\"\\nAfter imputation - Missing values:\")\n",
        "print(df_imputed[numerical_columns].isnull().sum())\n"
      ]
    }
  ],
  "metadata": {
    "colab": {
      "provenance": []
    },
    "kernelspec": {
      "display_name": "venv",
      "language": "python",
      "name": "python3"
    },
    "language_info": {
      "codemirror_mode": {
        "name": "ipython",
        "version": 3
      },
      "file_extension": ".py",
      "mimetype": "text/x-python",
      "name": "python",
      "nbconvert_exporter": "python",
      "pygments_lexer": "ipython3",
      "version": "3.13.7"
    }
  },
  "nbformat": 4,
  "nbformat_minor": 5
}
