{
  "cells": [
    {
      "cell_type": "code",
      "execution_count": 34,
      "id": "ea8afbf2",
      "metadata": {
        "id": "ea8afbf2"
      },
      "outputs": [],
      "source": [
        "import math\n",
        "import pandas as pd\n",
        "import matplotlib.pyplot as plt\n",
        "import seaborn as sns"
      ]
    },
    {
      "cell_type": "code",
      "execution_count": 35,
      "id": "4c189ece",
      "metadata": {
        "id": "4c189ece"
      },
      "outputs": [],
      "source": [
        "df = pd.read_csv('flights.csv')"
      ]
    },
    {
      "cell_type": "code",
      "execution_count": 36,
      "id": "906102d9",
      "metadata": {
        "colab": {
          "base_uri": "https://localhost:8080/",
          "height": 236
        },
        "id": "906102d9",
        "outputId": "12a24db7-87b6-4425-907a-4b4642c08ad7"
      },
      "outputs": [
        {
          "data": {
            "text/html": [
              "<div>\n",
              "<style scoped>\n",
              "    .dataframe tbody tr th:only-of-type {\n",
              "        vertical-align: middle;\n",
              "    }\n",
              "\n",
              "    .dataframe tbody tr th {\n",
              "        vertical-align: top;\n",
              "    }\n",
              "\n",
              "    .dataframe thead th {\n",
              "        text-align: right;\n",
              "    }\n",
              "</style>\n",
              "<table border=\"1\" class=\"dataframe\">\n",
              "  <thead>\n",
              "    <tr style=\"text-align: right;\">\n",
              "      <th></th>\n",
              "      <th>year</th>\n",
              "      <th>month</th>\n",
              "      <th>day</th>\n",
              "      <th>dep_delay</th>\n",
              "      <th>arr_delay</th>\n",
              "      <th>origin</th>\n",
              "      <th>dest</th>\n",
              "      <th>flight</th>\n",
              "      <th>tailnum</th>\n",
              "      <th>distance</th>\n",
              "      <th>air_time</th>\n",
              "      <th>carrier</th>\n",
              "      <th>name</th>\n",
              "      <th>date</th>\n",
              "    </tr>\n",
              "  </thead>\n",
              "  <tbody>\n",
              "    <tr>\n",
              "      <th>21231</th>\n",
              "      <td>2013</td>\n",
              "      <td>1</td>\n",
              "      <td>25</td>\n",
              "      <td>-6.0</td>\n",
              "      <td>16.0</td>\n",
              "      <td>LGA</td>\n",
              "      <td>ATL</td>\n",
              "      <td>347</td>\n",
              "      <td>N959AT</td>\n",
              "      <td>762</td>\n",
              "      <td>129.0</td>\n",
              "      <td>FL</td>\n",
              "      <td>AirTran Airways Corporation</td>\n",
              "      <td>2013-01-25</td>\n",
              "    </tr>\n",
              "    <tr>\n",
              "      <th>62745</th>\n",
              "      <td>2013</td>\n",
              "      <td>11</td>\n",
              "      <td>8</td>\n",
              "      <td>-1.0</td>\n",
              "      <td>7.0</td>\n",
              "      <td>EWR</td>\n",
              "      <td>ATL</td>\n",
              "      <td>1442</td>\n",
              "      <td>N990AT</td>\n",
              "      <td>746</td>\n",
              "      <td>118.0</td>\n",
              "      <td>DL</td>\n",
              "      <td>Delta Air Lines Inc.</td>\n",
              "      <td>2013-11-08</td>\n",
              "    </tr>\n",
              "    <tr>\n",
              "      <th>162631</th>\n",
              "      <td>2013</td>\n",
              "      <td>3</td>\n",
              "      <td>29</td>\n",
              "      <td>-2.0</td>\n",
              "      <td>-24.0</td>\n",
              "      <td>LGA</td>\n",
              "      <td>ORD</td>\n",
              "      <td>313</td>\n",
              "      <td>N425AA</td>\n",
              "      <td>733</td>\n",
              "      <td>111.0</td>\n",
              "      <td>AA</td>\n",
              "      <td>American Airlines Inc.</td>\n",
              "      <td>2013-03-29</td>\n",
              "    </tr>\n",
              "    <tr>\n",
              "      <th>308409</th>\n",
              "      <td>2013</td>\n",
              "      <td>8</td>\n",
              "      <td>30</td>\n",
              "      <td>-9.0</td>\n",
              "      <td>-13.0</td>\n",
              "      <td>LGA</td>\n",
              "      <td>DCA</td>\n",
              "      <td>2195</td>\n",
              "      <td>N721UW</td>\n",
              "      <td>214</td>\n",
              "      <td>46.0</td>\n",
              "      <td>US</td>\n",
              "      <td>US Airways Inc.</td>\n",
              "      <td>2013-08-30</td>\n",
              "    </tr>\n",
              "    <tr>\n",
              "      <th>183284</th>\n",
              "      <td>2013</td>\n",
              "      <td>4</td>\n",
              "      <td>20</td>\n",
              "      <td>-7.0</td>\n",
              "      <td>20.0</td>\n",
              "      <td>EWR</td>\n",
              "      <td>MCO</td>\n",
              "      <td>746</td>\n",
              "      <td>N440UA</td>\n",
              "      <td>937</td>\n",
              "      <td>165.0</td>\n",
              "      <td>UA</td>\n",
              "      <td>United Air Lines Inc.</td>\n",
              "      <td>2013-04-20</td>\n",
              "    </tr>\n",
              "  </tbody>\n",
              "</table>\n",
              "</div>"
            ],
            "text/plain": [
              "        year  month  day  dep_delay  arr_delay origin dest  flight tailnum  \\\n",
              "21231   2013      1   25       -6.0       16.0    LGA  ATL     347  N959AT   \n",
              "62745   2013     11    8       -1.0        7.0    EWR  ATL    1442  N990AT   \n",
              "162631  2013      3   29       -2.0      -24.0    LGA  ORD     313  N425AA   \n",
              "308409  2013      8   30       -9.0      -13.0    LGA  DCA    2195  N721UW   \n",
              "183284  2013      4   20       -7.0       20.0    EWR  MCO     746  N440UA   \n",
              "\n",
              "        distance  air_time carrier                         name        date  \n",
              "21231        762     129.0      FL  AirTran Airways Corporation  2013-01-25  \n",
              "62745        746     118.0      DL         Delta Air Lines Inc.  2013-11-08  \n",
              "162631       733     111.0      AA       American Airlines Inc.  2013-03-29  \n",
              "308409       214      46.0      US              US Airways Inc.  2013-08-30  \n",
              "183284       937     165.0      UA        United Air Lines Inc.  2013-04-20  "
            ]
          },
          "execution_count": 36,
          "metadata": {},
          "output_type": "execute_result"
        }
      ],
      "source": [
        "df.sample(5)"
      ]
    },
    {
      "cell_type": "code",
      "execution_count": 37,
      "id": "41878ce4",
      "metadata": {},
      "outputs": [
        {
          "data": {
            "text/plain": [
              "year           int64\n",
              "month          int64\n",
              "day            int64\n",
              "dep_delay    float64\n",
              "arr_delay    float64\n",
              "origin        object\n",
              "dest          object\n",
              "flight         int64\n",
              "tailnum       object\n",
              "distance       int64\n",
              "air_time     float64\n",
              "carrier       object\n",
              "name          object\n",
              "date          object\n",
              "dtype: object"
            ]
          },
          "execution_count": 37,
          "metadata": {},
          "output_type": "execute_result"
        }
      ],
      "source": [
        "df.dtypes"
      ]
    },
    {
      "cell_type": "code",
      "execution_count": 38,
      "id": "af330fbc",
      "metadata": {},
      "outputs": [
        {
          "name": "stdout",
          "output_type": "stream",
          "text": [
            "<class 'pandas.core.frame.DataFrame'>\n",
            "RangeIndex: 336776 entries, 0 to 336775\n",
            "Data columns (total 14 columns):\n",
            " #   Column     Non-Null Count   Dtype  \n",
            "---  ------     --------------   -----  \n",
            " 0   year       336776 non-null  int64  \n",
            " 1   month      336776 non-null  int64  \n",
            " 2   day        336776 non-null  int64  \n",
            " 3   dep_delay  328521 non-null  float64\n",
            " 4   arr_delay  327346 non-null  float64\n",
            " 5   origin     336776 non-null  object \n",
            " 6   dest       336776 non-null  object \n",
            " 7   flight     336776 non-null  int64  \n",
            " 8   tailnum    334264 non-null  object \n",
            " 9   distance   336776 non-null  int64  \n",
            " 10  air_time   327346 non-null  float64\n",
            " 11  carrier    336776 non-null  object \n",
            " 12  name       336776 non-null  object \n",
            " 13  date       336776 non-null  object \n",
            "dtypes: float64(3), int64(5), object(6)\n",
            "memory usage: 36.0+ MB\n"
          ]
        }
      ],
      "source": [
        "df.info()"
      ]
    },
    {
      "cell_type": "code",
      "execution_count": null,
      "id": "4c2184f1",
      "metadata": {},
      "outputs": [
        {
          "data": {
            "image/png": "[encoded data removed]",
            "text/plain": [
              "<Figure size 800x500 with 1 Axes>"
            ]
          },
          "metadata": {},
          "output_type": "display_data"
        }
      ],
      "source": [
        "# Agrupar por aerolínea y calcular promedio de retraso en salida\n",
        "avg_delay = df.groupby(\"carrier\")[\"dep_delay\"].mean().sort_values()\n",
        "\n",
        "# Gráfico de barras\n",
        "plt.figure(figsize=(8,5))\n",
        "avg_delay.plot(kind=\"bar\", color=\"skyblue\", edgecolor=\"black\")\n",
        "plt.title(\"Retraso promedio en salida por aerolínea\")\n",
        "plt.xlabel(\"Aerolínea\")\n",
        "plt.ylabel(\"Retraso promedio (minutos)\")\n",
        "plt.xticks(rotation=0)\n",
        "plt.show()"
      ]
    },
    {
      "cell_type": "code",
      "execution_count": 42,
      "id": "78239600",
      "metadata": {},
      "outputs": [
        {
          "data": {
            "image/png": "[encoded data removed]",
            "text/plain": [
              "<Figure size 800x500 with 1 Axes>"
            ]
          },
          "metadata": {},
          "output_type": "display_data"
        }
      ],
      "source": [
        "# Agrupar por aerolínea y calcular promedio de retraso en la llegada\n",
        "avg_delay = df.groupby(\"carrier\")[\"arr_delay\"].mean().sort_values()\n",
        "\n",
        "# Gráfico de barras\n",
        "plt.figure(figsize=(8,5))\n",
        "avg_delay.plot(kind=\"bar\", color=\"skyblue\", edgecolor=\"black\")\n",
        "plt.title(\"Retraso promedio en llegada por aerolínea\")\n",
        "plt.xlabel(\"Aerolínea\")\n",
        "plt.ylabel(\"Retraso promedio (minutos)\")\n",
        "plt.xticks(rotation=0)\n",
        "plt.show()"
      ]
    },
    {
      "cell_type": "code",
      "execution_count": null,
      "id": "fa354be6",
      "metadata": {},
      "outputs": [
        {
          "name": "stdout",
          "output_type": "stream",
          "text": [
            "Numerical columns: ['year', 'month', 'day', 'dep_delay', 'arr_delay', 'flight', 'distance', 'air_time']\n",
            "\n",
            "Missing values in numerical columns:\n",
            "dep_delay: 8255 missing values (2.45%)\n",
            "arr_delay: 9430 missing values (2.80%)\n",
            "air_time: 9430 missing values (2.80%)\n"
          ]
        }
      ],
      "source": [
        "\n",
        "# Identify numerical columns\n",
        "numerical_columns = df.select_dtypes(include=['int64', 'float64']).columns.tolist()\n",
        "print(\"Numerical columns:\", numerical_columns)\n",
        "\n",
        "# Check missing values in numerical columns specifically\n",
        "print(\"\\nMissing values in numerical columns:\")\n",
        "for col in numerical_columns:\n",
        "    missing_count = df[col].isnull().sum()\n",
        "    if missing_count > 0:\n",
        "        print(f\"{col}: {missing_count} missing values ({missing_count/len(df)*100:.2f}%)\")\n"
      ]
    },
    {
      "cell_type": "code",
      "execution_count": null,
      "id": "89b1de55",
      "metadata": {},
      "outputs": [
        {
          "name": "stdout",
          "output_type": "stream",
          "text": [
            "Before imputation - Missing values:\n",
            "year            0\n",
            "month           0\n",
            "day             0\n",
            "dep_delay    8255\n",
            "arr_delay    9430\n",
            "flight          0\n",
            "distance        0\n",
            "air_time     9430\n",
            "dtype: int64\n",
            "Imputed dep_delay with median: -2.0\n",
            "Imputed arr_delay with median: -5.0\n",
            "Imputed air_time with median: 129.0\n",
            "\n",
            "After imputation - Missing values:\n",
            "year         0\n",
            "month        0\n",
            "day          0\n",
            "dep_delay    0\n",
            "arr_delay    0\n",
            "flight       0\n",
            "distance     0\n",
            "air_time     0\n",
            "dtype: int64\n"
          ]
        }
      ],
      "source": [
        "# Impute missing values in numerical columns with median\n",
        "print(\"Before imputation - Missing values:\")\n",
        "print(df[numerical_columns].isnull().sum())\n",
        "\n",
        "# Create a copy of the dataframe to preserve original data\n",
        "df_imputed = df.copy()\n",
        "\n",
        "# Impute missing values with median for each numerical column\n",
        "for col in numerical_columns:\n",
        "    if df_imputed[col].isnull().sum() > 0:\n",
        "        median_value = df_imputed[col].median()\n",
        "        df_imputed[col] = df_imputed[col].fillna(median_value)\n",
        "        print(f\"Imputed {col} with median: {median_value}\")\n",
        "\n",
        "print(\"\\nAfter imputation - Missing values:\")\n",
        "print(df_imputed[numerical_columns].isnull().sum())\n"
      ]
    }
  ],
  "metadata": {
    "colab": {
      "provenance": []
    },
    "kernelspec": {
      "display_name": "Python 3",
      "language": "python",
      "name": "python3"
    },
    "language_info": {
      "codemirror_mode": {
        "name": "ipython",
        "version": 3
      },
      "file_extension": ".py",
      "mimetype": "text/x-python",
      "name": "python",
      "nbconvert_exporter": "python",
      "pygments_lexer": "ipython3",
      "version": "3.13.2"
    }
  },
  "nbformat": 4,
  "nbformat_minor": 5
}
