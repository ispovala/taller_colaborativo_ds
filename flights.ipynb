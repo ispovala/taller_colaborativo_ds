{
  "cells": [
    {
      "cell_type": "code",
      "execution_count": 2,
      "id": "ea8afbf2",
      "metadata": {
        "id": "ea8afbf2"
      },
      "outputs": [],
      "source": [
        "import math\n",
        "import pandas as pd\n",
        "import matplotlib.pyplot as plt\n",
        "import seaborn as sns"
      ]
    },
    {
      "cell_type": "code",
      "execution_count": 3,
      "id": "4c189ece",
      "metadata": {
        "id": "4c189ece"
      },
      "outputs": [],
      "source": [
        "df = pd.read_csv('flights.csv')"
      ]
    },
    {
      "cell_type": "code",
      "execution_count": 4,
      "id": "906102d9",
      "metadata": {
        "colab": {
          "base_uri": "https://localhost:8080/",
          "height": 236
        },
        "id": "906102d9",
        "outputId": "12a24db7-87b6-4425-907a-4b4642c08ad7"
      },
      "outputs": [
        {
          "data": {
            "text/html": [
              "<div>\n",
              "<style scoped>\n",
              "    .dataframe tbody tr th:only-of-type {\n",
              "        vertical-align: middle;\n",
              "    }\n",
              "\n",
              "    .dataframe tbody tr th {\n",
              "        vertical-align: top;\n",
              "    }\n",
              "\n",
              "    .dataframe thead th {\n",
              "        text-align: right;\n",
              "    }\n",
              "</style>\n",
              "<table border=\"1\" class=\"dataframe\">\n",
              "  <thead>\n",
              "    <tr style=\"text-align: right;\">\n",
              "      <th></th>\n",
              "      <th>year</th>\n",
              "      <th>month</th>\n",
              "      <th>day</th>\n",
              "      <th>dep_delay</th>\n",
              "      <th>arr_delay</th>\n",
              "      <th>origin</th>\n",
              "      <th>dest</th>\n",
              "      <th>flight</th>\n",
              "      <th>tailnum</th>\n",
              "      <th>distance</th>\n",
              "      <th>air_time</th>\n",
              "      <th>carrier</th>\n",
              "      <th>name</th>\n",
              "      <th>date</th>\n",
              "    </tr>\n",
              "  </thead>\n",
              "  <tbody>\n",
              "    <tr>\n",
              "      <th>75913</th>\n",
              "      <td>2013</td>\n",
              "      <td>11</td>\n",
              "      <td>22</td>\n",
              "      <td>34.0</td>\n",
              "      <td>32.0</td>\n",
              "      <td>EWR</td>\n",
              "      <td>BNA</td>\n",
              "      <td>1746</td>\n",
              "      <td>N231WN</td>\n",
              "      <td>748</td>\n",
              "      <td>125.0</td>\n",
              "      <td>WN</td>\n",
              "      <td>Southwest Airlines Co.</td>\n",
              "      <td>2013-11-22</td>\n",
              "    </tr>\n",
              "    <tr>\n",
              "      <th>58194</th>\n",
              "      <td>2013</td>\n",
              "      <td>11</td>\n",
              "      <td>3</td>\n",
              "      <td>9.0</td>\n",
              "      <td>5.0</td>\n",
              "      <td>EWR</td>\n",
              "      <td>SFO</td>\n",
              "      <td>617</td>\n",
              "      <td>N573UA</td>\n",
              "      <td>2565</td>\n",
              "      <td>345.0</td>\n",
              "      <td>UA</td>\n",
              "      <td>United Air Lines Inc.</td>\n",
              "      <td>2013-11-03</td>\n",
              "    </tr>\n",
              "    <tr>\n",
              "      <th>324148</th>\n",
              "      <td>2013</td>\n",
              "      <td>9</td>\n",
              "      <td>17</td>\n",
              "      <td>11.0</td>\n",
              "      <td>17.0</td>\n",
              "      <td>LGA</td>\n",
              "      <td>MIA</td>\n",
              "      <td>1256</td>\n",
              "      <td>N3JUAA</td>\n",
              "      <td>1096</td>\n",
              "      <td>147.0</td>\n",
              "      <td>AA</td>\n",
              "      <td>American Airlines Inc.</td>\n",
              "      <td>2013-09-17</td>\n",
              "    </tr>\n",
              "    <tr>\n",
              "      <th>47278</th>\n",
              "      <td>2013</td>\n",
              "      <td>10</td>\n",
              "      <td>22</td>\n",
              "      <td>10.0</td>\n",
              "      <td>2.0</td>\n",
              "      <td>JFK</td>\n",
              "      <td>SAN</td>\n",
              "      <td>67</td>\n",
              "      <td>N3AEAA</td>\n",
              "      <td>2446</td>\n",
              "      <td>329.0</td>\n",
              "      <td>AA</td>\n",
              "      <td>American Airlines Inc.</td>\n",
              "      <td>2013-10-22</td>\n",
              "    </tr>\n",
              "    <tr>\n",
              "      <th>29169</th>\n",
              "      <td>2013</td>\n",
              "      <td>10</td>\n",
              "      <td>3</td>\n",
              "      <td>-6.0</td>\n",
              "      <td>3.0</td>\n",
              "      <td>JFK</td>\n",
              "      <td>SFO</td>\n",
              "      <td>15</td>\n",
              "      <td>N508JB</td>\n",
              "      <td>2586</td>\n",
              "      <td>353.0</td>\n",
              "      <td>B6</td>\n",
              "      <td>JetBlue Airways</td>\n",
              "      <td>2013-10-03</td>\n",
              "    </tr>\n",
              "  </tbody>\n",
              "</table>\n",
              "</div>"
            ],
            "text/plain": [
              "        year  month  day  dep_delay  arr_delay origin dest  flight tailnum  \\\n",
              "75913   2013     11   22       34.0       32.0    EWR  BNA    1746  N231WN   \n",
              "58194   2013     11    3        9.0        5.0    EWR  SFO     617  N573UA   \n",
              "324148  2013      9   17       11.0       17.0    LGA  MIA    1256  N3JUAA   \n",
              "47278   2013     10   22       10.0        2.0    JFK  SAN      67  N3AEAA   \n",
              "29169   2013     10    3       -6.0        3.0    JFK  SFO      15  N508JB   \n",
              "\n",
              "        distance  air_time carrier                    name        date  \n",
              "75913        748     125.0      WN  Southwest Airlines Co.  2013-11-22  \n",
              "58194       2565     345.0      UA   United Air Lines Inc.  2013-11-03  \n",
              "324148      1096     147.0      AA  American Airlines Inc.  2013-09-17  \n",
              "47278       2446     329.0      AA  American Airlines Inc.  2013-10-22  \n",
              "29169       2586     353.0      B6         JetBlue Airways  2013-10-03  "
            ]
          },
          "execution_count": 4,
          "metadata": {},
          "output_type": "execute_result"
        }
      ],
      "source": [
        "df.sample(5)"
      ]
    },
    {
      "cell_type": "code",
      "execution_count": 6,
      "id": "fa354be6",
      "metadata": {},
      "outputs": [
        {
          "name": "stdout",
          "output_type": "stream",
          "text": [
            "Numerical columns: ['year', 'month', 'day', 'dep_delay', 'arr_delay', 'flight', 'distance', 'air_time']\n",
            "\n",
            "Missing values in numerical columns:\n",
            "dep_delay: 8255 missing values (2.45%)\n",
            "arr_delay: 9430 missing values (2.80%)\n",
            "air_time: 9430 missing values (2.80%)\n"
          ]
        }
      ],
      "source": [
        "df.info()",
        "# Identify numerical columns\n",
        "numerical_columns = df.select_dtypes(include=['int64', 'float64']).columns.tolist()\n",
        "print(\"Numerical columns:\", numerical_columns)\n",
        "\n",
        "# Check missing values in numerical columns specifically\n",
        "print(\"\\nMissing values in numerical columns:\")\n",
        "for col in numerical_columns:\n",
        "    missing_count = df[col].isnull().sum()\n",
        "    if missing_count > 0:\n",
        "        print(f\"{col}: {missing_count} missing values ({missing_count/len(df)*100:.2f}%)\")\n"
      ]
    },
    {
      "cell_type": "code",
      "execution_count": 5,
      "id": "89b1de55",
      "metadata": {},
      "outputs": [
        {
          "name": "stdout",
          "output_type": "stream",
          "text": [
            "Before imputation - Missing values:\n",
            "year            0\n",
            "month           0\n",
            "day             0\n",
            "dep_delay    8255\n",
            "arr_delay    9430\n",
            "flight          0\n",
            "distance        0\n",
            "air_time     9430\n",
            "dtype: int64\n",
            "Imputed dep_delay with median: -2.0\n",
            "Imputed arr_delay with median: -5.0\n",
            "Imputed air_time with median: 129.0\n",
            "\n",
            "After imputation - Missing values:\n",
            "year         0\n",
            "month        0\n",
            "day          0\n",
            "dep_delay    0\n",
            "arr_delay    0\n",
            "flight       0\n",
            "distance     0\n",
            "air_time     0\n",
            "dtype: int64\n"
          ]
        }
      ],
      "source": [
        "# Impute missing values in numerical columns with median\n",
        "print(\"Before imputation - Missing values:\")\n",
        "print(df[numerical_columns].isnull().sum())\n",
        "\n",
        "# Create a copy of the dataframe to preserve original data\n",
        "df_imputed = df.copy()\n",
        "\n",
        "# Impute missing values with median for each numerical column\n",
        "for col in numerical_columns:\n",
        "    if df_imputed[col].isnull().sum() > 0:\n",
        "        median_value = df_imputed[col].median()\n",
        "        df_imputed[col] = df_imputed[col].fillna(median_value)\n",
        "        print(f\"Imputed {col} with median: {median_value}\")\n",
        "\n",
        "print(\"\\nAfter imputation - Missing values:\")\n",
        "print(df_imputed[numerical_columns].isnull().sum())\n"
      ]
    }
  ],
  "metadata": {
    "colab": {
      "provenance": []
    },
    "kernelspec": {
      "display_name": "venv",
      "language": "python",
      "name": "python3"
    },
    "language_info": {
      "codemirror_mode": {
        "name": "ipython",
        "version": 3
      },
      "file_extension": ".py",
      "mimetype": "text/x-python",
      "name": "python",
      "nbconvert_exporter": "python",
      "pygments_lexer": "ipython3",
      "version": "3.13.2"
    }
  },
  "nbformat": 4,
  "nbformat_minor": 5
}
