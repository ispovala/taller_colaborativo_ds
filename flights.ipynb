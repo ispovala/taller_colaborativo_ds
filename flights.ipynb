{
  "cells": [
    {
      "cell_type": "code",
      "execution_count": 2,
      "id": "ea8afbf2",
      "metadata": {
        "id": "ea8afbf2"
      },
      "outputs": [],
      "source": [
        "import math\n",
        "import pandas as pd\n",
        "import matplotlib.pyplot as plt\n",
        "import seaborn as sns"
      ]
    },
    {
      "cell_type": "code",
      "execution_count": 3,
      "id": "4c189ece",
      "metadata": {
        "id": "4c189ece"
      },
      "outputs": [],
      "source": [
        "df = pd.read_csv('flights.csv')"
      ]
    },
    {
      "cell_type": "code",
      "execution_count": 4,
      "id": "906102d9",
      "metadata": {
        "colab": {
          "base_uri": "https://localhost:8080/",
          "height": 236
        },
        "id": "906102d9",
        "outputId": "12a24db7-87b6-4425-907a-4b4642c08ad7"
      },
      "outputs": [
        {
          "data": {
            "text/html": [
              "<div>\n",
              "<style scoped>\n",
              "    .dataframe tbody tr th:only-of-type {\n",
              "        vertical-align: middle;\n",
              "    }\n",
              "\n",
              "    .dataframe tbody tr th {\n",
              "        vertical-align: top;\n",
              "    }\n",
              "\n",
              "    .dataframe thead th {\n",
              "        text-align: right;\n",
              "    }\n",
              "</style>\n",
              "<table border=\"1\" class=\"dataframe\">\n",
              "  <thead>\n",
              "    <tr style=\"text-align: right;\">\n",
              "      <th></th>\n",
              "      <th>year</th>\n",
              "      <th>month</th>\n",
              "      <th>day</th>\n",
              "      <th>dep_delay</th>\n",
              "      <th>arr_delay</th>\n",
              "      <th>origin</th>\n",
              "      <th>dest</th>\n",
              "      <th>flight</th>\n",
              "      <th>tailnum</th>\n",
              "      <th>distance</th>\n",
              "      <th>air_time</th>\n",
              "      <th>carrier</th>\n",
              "      <th>name</th>\n",
              "      <th>date</th>\n",
              "    </tr>\n",
              "  </thead>\n",
              "  <tbody>\n",
              "    <tr>\n",
              "      <th>75913</th>\n",
              "      <td>2013</td>\n",
              "      <td>11</td>\n",
              "      <td>22</td>\n",
              "      <td>34.0</td>\n",
              "      <td>32.0</td>\n",
              "      <td>EWR</td>\n",
              "      <td>BNA</td>\n",
              "      <td>1746</td>\n",
              "      <td>N231WN</td>\n",
              "      <td>748</td>\n",
              "      <td>125.0</td>\n",
              "      <td>WN</td>\n",
              "      <td>Southwest Airlines Co.</td>\n",
              "      <td>2013-11-22</td>\n",
              "    </tr>\n",
              "    <tr>\n",
              "      <th>58194</th>\n",
              "      <td>2013</td>\n",
              "      <td>11</td>\n",
              "      <td>3</td>\n",
              "      <td>9.0</td>\n",
              "      <td>5.0</td>\n",
              "      <td>EWR</td>\n",
              "      <td>SFO</td>\n",
              "      <td>617</td>\n",
              "      <td>N573UA</td>\n",
              "      <td>2565</td>\n",
              "      <td>345.0</td>\n",
              "      <td>UA</td>\n",
              "      <td>United Air Lines Inc.</td>\n",
              "      <td>2013-11-03</td>\n",
              "    </tr>\n",
              "    <tr>\n",
              "      <th>324148</th>\n",
              "      <td>2013</td>\n",
              "      <td>9</td>\n",
              "      <td>17</td>\n",
              "      <td>11.0</td>\n",
              "      <td>17.0</td>\n",
              "      <td>LGA</td>\n",
              "      <td>MIA</td>\n",
              "      <td>1256</td>\n",
              "      <td>N3JUAA</td>\n",
              "      <td>1096</td>\n",
              "      <td>147.0</td>\n",
              "      <td>AA</td>\n",
              "      <td>American Airlines Inc.</td>\n",
              "      <td>2013-09-17</td>\n",
              "    </tr>\n",
              "    <tr>\n",
              "      <th>47278</th>\n",
              "      <td>2013</td>\n",
              "      <td>10</td>\n",
              "      <td>22</td>\n",
              "      <td>10.0</td>\n",
              "      <td>2.0</td>\n",
              "      <td>JFK</td>\n",
              "      <td>SAN</td>\n",
              "      <td>67</td>\n",
              "      <td>N3AEAA</td>\n",
              "      <td>2446</td>\n",
              "      <td>329.0</td>\n",
              "      <td>AA</td>\n",
              "      <td>American Airlines Inc.</td>\n",
              "      <td>2013-10-22</td>\n",
              "    </tr>\n",
              "    <tr>\n",
              "      <th>29169</th>\n",
              "      <td>2013</td>\n",
              "      <td>10</td>\n",
              "      <td>3</td>\n",
              "      <td>-6.0</td>\n",
              "      <td>3.0</td>\n",
              "      <td>JFK</td>\n",
              "      <td>SFO</td>\n",
              "      <td>15</td>\n",
              "      <td>N508JB</td>\n",
              "      <td>2586</td>\n",
              "      <td>353.0</td>\n",
              "      <td>B6</td>\n",
              "      <td>JetBlue Airways</td>\n",
              "      <td>2013-10-03</td>\n",
              "    </tr>\n",
              "  </tbody>\n",
              "</table>\n",
              "</div>"
            ],
            "text/plain": [
              "        year  month  day  dep_delay  arr_delay origin dest  flight tailnum  \\\n",
              "75913   2013     11   22       34.0       32.0    EWR  BNA    1746  N231WN   \n",
              "58194   2013     11    3        9.0        5.0    EWR  SFO     617  N573UA   \n",
              "324148  2013      9   17       11.0       17.0    LGA  MIA    1256  N3JUAA   \n",
              "47278   2013     10   22       10.0        2.0    JFK  SAN      67  N3AEAA   \n",
              "29169   2013     10    3       -6.0        3.0    JFK  SFO      15  N508JB   \n",
              "\n",
              "        distance  air_time carrier                    name        date  \n",
              "75913        748     125.0      WN  Southwest Airlines Co.  2013-11-22  \n",
              "58194       2565     345.0      UA   United Air Lines Inc.  2013-11-03  \n",
              "324148      1096     147.0      AA  American Airlines Inc.  2013-09-17  \n",
              "47278       2446     329.0      AA  American Airlines Inc.  2013-10-22  \n",
              "29169       2586     353.0      B6         JetBlue Airways  2013-10-03  "
            ]
          },
          "execution_count": 4,
          "metadata": {},
          "output_type": "execute_result"
        }
      ],
      "source": [
        "df.sample(5)"
      ]
    },
    {
      "cell_type": "code",
      "execution_count": 6,
      "id": "fa354be6",
      "metadata": {},
      "outputs": [
        {
          "name": "stdout",
          "output_type": "stream",
          "text": [
            "<class 'pandas.core.frame.DataFrame'>\n",
            "RangeIndex: 336776 entries, 0 to 336775\n",
            "Data columns (total 14 columns):\n",
            " #   Column     Non-Null Count   Dtype  \n",
            "---  ------     --------------   -----  \n",
            " 0   year       336776 non-null  int64  \n",
            " 1   month      336776 non-null  int64  \n",
            " 2   day        336776 non-null  int64  \n",
            " 3   dep_delay  328521 non-null  float64\n",
            " 4   arr_delay  327346 non-null  float64\n",
            " 5   origin     336776 non-null  object \n",
            " 6   dest       336776 non-null  object \n",
            " 7   flight     336776 non-null  int64  \n",
            " 8   tailnum    334264 non-null  object \n",
            " 9   distance   336776 non-null  int64  \n",
            " 10  air_time   327346 non-null  float64\n",
            " 11  carrier    336776 non-null  object \n",
            " 12  name       336776 non-null  object \n",
            " 13  date       336776 non-null  object \n",
            "dtypes: float64(3), int64(5), object(6)\n",
            "memory usage: 36.0+ MB\n"
          ]
        }
      ],
      "source": [
        "df.info()"
      ]
    },
    {
      "cell_type": "code",
      "execution_count": 7,
      "id": "396ef5c5",
      "metadata": {},
      "outputs": [
        {
          "data": {
            "text/plain": [
              "<bound method NDFrame.describe of         year  month  day  dep_delay  arr_delay origin dest  flight tailnum  \\\n",
              "0       2013      1    1        2.0       11.0    EWR  IAH    1545  N14228   \n",
              "1       2013      1    1        4.0       20.0    LGA  IAH    1714  N24211   \n",
              "2       2013      1    1        2.0       33.0    JFK  MIA    1141  N619AA   \n",
              "3       2013      1    1       -1.0      -18.0    JFK  BQN     725  N804JB   \n",
              "4       2013      1    1       -6.0      -25.0    LGA  ATL     461  N668DN   \n",
              "...      ...    ...  ...        ...        ...    ...  ...     ...     ...   \n",
              "336771  2013      9   30        NaN        NaN    JFK  DCA    3393     NaN   \n",
              "336772  2013      9   30        NaN        NaN    LGA  SYR    3525     NaN   \n",
              "336773  2013      9   30        NaN        NaN    LGA  BNA    3461  N535MQ   \n",
              "336774  2013      9   30        NaN        NaN    LGA  CLE    3572  N511MQ   \n",
              "336775  2013      9   30        NaN        NaN    LGA  RDU    3531  N839MQ   \n",
              "\n",
              "        distance  air_time carrier                    name        date  \n",
              "0           1400     227.0      UA   United Air Lines Inc.  2013-01-01  \n",
              "1           1416     227.0      UA   United Air Lines Inc.  2013-01-01  \n",
              "2           1089     160.0      AA  American Airlines Inc.  2013-01-01  \n",
              "3           1576     183.0      B6         JetBlue Airways  2013-01-01  \n",
              "4            762     116.0      DL    Delta Air Lines Inc.  2013-01-01  \n",
              "...          ...       ...     ...                     ...         ...  \n",
              "336771       213       NaN      9E       Endeavor Air Inc.  2013-09-30  \n",
              "336772       198       NaN      9E       Endeavor Air Inc.  2013-09-30  \n",
              "336773       764       NaN      MQ               Envoy Air  2013-09-30  \n",
              "336774       419       NaN      MQ               Envoy Air  2013-09-30  \n",
              "336775       431       NaN      MQ               Envoy Air  2013-09-30  \n",
              "\n",
              "[336776 rows x 14 columns]>"
            ]
          },
          "execution_count": 7,
          "metadata": {},
          "output_type": "execute_result"
        }
      ],
      "source": [
        "df.describe"
      ]
    }
  ],
  "metadata": {
    "colab": {
      "provenance": []
    },
    "kernelspec": {
      "display_name": "venv",
      "language": "python",
      "name": "python3"
    },
    "language_info": {
      "codemirror_mode": {
        "name": "ipython",
        "version": 3
      },
      "file_extension": ".py",
      "mimetype": "text/x-python",
      "name": "python",
      "nbconvert_exporter": "python",
      "pygments_lexer": "ipython3",
      "version": "3.13.2"
    }
  },
  "nbformat": 4,
  "nbformat_minor": 5
}
