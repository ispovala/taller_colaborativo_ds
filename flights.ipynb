{
  "cells": [
    {
      "cell_type": "code",
      "execution_count": 1,
      "id": "ea8afbf2",
      "metadata": {
        "id": "ea8afbf2"
      },
      "outputs": [],
      "source": [
        "import math\n",
        "import pandas as pd\n",
        "import matplotlib.pyplot as plt\n",
        "import seaborn as sns"
      ]
    },
    {
      "cell_type": "code",
      "execution_count": 2,
      "id": "4c189ece",
      "metadata": {
        "id": "4c189ece"
      },
      "outputs": [],
      "source": [
        "df = pd.read_csv('flights.csv')"
      ]
    },
    {
      "cell_type": "code",
      "execution_count": 3,
      "id": "906102d9",
      "metadata": {
        "colab": {
          "base_uri": "https://localhost:8080/",
          "height": 236
        },
        "id": "906102d9",
        "outputId": "12a24db7-87b6-4425-907a-4b4642c08ad7"
      },
      "outputs": [
        {
          "data": {
            "text/html": [
              "<div>\n",
              "<style scoped>\n",
              "    .dataframe tbody tr th:only-of-type {\n",
              "        vertical-align: middle;\n",
              "    }\n",
              "\n",
              "    .dataframe tbody tr th {\n",
              "        vertical-align: top;\n",
              "    }\n",
              "\n",
              "    .dataframe thead th {\n",
              "        text-align: right;\n",
              "    }\n",
              "</style>\n",
              "<table border=\"1\" class=\"dataframe\">\n",
              "  <thead>\n",
              "    <tr style=\"text-align: right;\">\n",
              "      <th></th>\n",
              "      <th>year</th>\n",
              "      <th>month</th>\n",
              "      <th>day</th>\n",
              "      <th>dep_delay</th>\n",
              "      <th>arr_delay</th>\n",
              "      <th>origin</th>\n",
              "      <th>dest</th>\n",
              "      <th>flight</th>\n",
              "      <th>tailnum</th>\n",
              "      <th>distance</th>\n",
              "      <th>air_time</th>\n",
              "      <th>carrier</th>\n",
              "      <th>name</th>\n",
              "      <th>date</th>\n",
              "    </tr>\n",
              "  </thead>\n",
              "  <tbody>\n",
              "    <tr>\n",
              "      <th>27382</th>\n",
              "      <td>2013</td>\n",
              "      <td>10</td>\n",
              "      <td>1</td>\n",
              "      <td>-6.0</td>\n",
              "      <td>-35.0</td>\n",
              "      <td>EWR</td>\n",
              "      <td>PHX</td>\n",
              "      <td>533</td>\n",
              "      <td>N817UA</td>\n",
              "      <td>2133</td>\n",
              "      <td>272.0</td>\n",
              "      <td>UA</td>\n",
              "      <td>United Air Lines Inc.</td>\n",
              "      <td>2013-10-01</td>\n",
              "    </tr>\n",
              "    <tr>\n",
              "      <th>98682</th>\n",
              "      <td>2013</td>\n",
              "      <td>12</td>\n",
              "      <td>17</td>\n",
              "      <td>89.0</td>\n",
              "      <td>97.0</td>\n",
              "      <td>EWR</td>\n",
              "      <td>DSM</td>\n",
              "      <td>4543</td>\n",
              "      <td>N17196</td>\n",
              "      <td>1017</td>\n",
              "      <td>152.0</td>\n",
              "      <td>EV</td>\n",
              "      <td>ExpressJet Airlines Inc.</td>\n",
              "      <td>2013-12-17</td>\n",
              "    </tr>\n",
              "    <tr>\n",
              "      <th>289205</th>\n",
              "      <td>2013</td>\n",
              "      <td>8</td>\n",
              "      <td>10</td>\n",
              "      <td>5.0</td>\n",
              "      <td>22.0</td>\n",
              "      <td>EWR</td>\n",
              "      <td>DEN</td>\n",
              "      <td>1622</td>\n",
              "      <td>N17719</td>\n",
              "      <td>1605</td>\n",
              "      <td>236.0</td>\n",
              "      <td>UA</td>\n",
              "      <td>United Air Lines Inc.</td>\n",
              "      <td>2013-08-10</td>\n",
              "    </tr>\n",
              "    <tr>\n",
              "      <th>89773</th>\n",
              "      <td>2013</td>\n",
              "      <td>12</td>\n",
              "      <td>8</td>\n",
              "      <td>-4.0</td>\n",
              "      <td>-12.0</td>\n",
              "      <td>LGA</td>\n",
              "      <td>IAH</td>\n",
              "      <td>559</td>\n",
              "      <td>N403UA</td>\n",
              "      <td>1416</td>\n",
              "      <td>219.0</td>\n",
              "      <td>UA</td>\n",
              "      <td>United Air Lines Inc.</td>\n",
              "      <td>2013-12-08</td>\n",
              "    </tr>\n",
              "    <tr>\n",
              "      <th>279502</th>\n",
              "      <td>2013</td>\n",
              "      <td>7</td>\n",
              "      <td>31</td>\n",
              "      <td>0.0</td>\n",
              "      <td>8.0</td>\n",
              "      <td>JFK</td>\n",
              "      <td>CVG</td>\n",
              "      <td>3075</td>\n",
              "      <td>N645MQ</td>\n",
              "      <td>589</td>\n",
              "      <td>97.0</td>\n",
              "      <td>MQ</td>\n",
              "      <td>Envoy Air</td>\n",
              "      <td>2013-07-31</td>\n",
              "    </tr>\n",
              "  </tbody>\n",
              "</table>\n",
              "</div>"
            ],
            "text/plain": [
              "        year  month  day  dep_delay  arr_delay origin dest  flight tailnum  \\\n",
              "27382   2013     10    1       -6.0      -35.0    EWR  PHX     533  N817UA   \n",
              "98682   2013     12   17       89.0       97.0    EWR  DSM    4543  N17196   \n",
              "289205  2013      8   10        5.0       22.0    EWR  DEN    1622  N17719   \n",
              "89773   2013     12    8       -4.0      -12.0    LGA  IAH     559  N403UA   \n",
              "279502  2013      7   31        0.0        8.0    JFK  CVG    3075  N645MQ   \n",
              "\n",
              "        distance  air_time carrier                      name        date  \n",
              "27382       2133     272.0      UA     United Air Lines Inc.  2013-10-01  \n",
              "98682       1017     152.0      EV  ExpressJet Airlines Inc.  2013-12-17  \n",
              "289205      1605     236.0      UA     United Air Lines Inc.  2013-08-10  \n",
              "89773       1416     219.0      UA     United Air Lines Inc.  2013-12-08  \n",
              "279502       589      97.0      MQ                 Envoy Air  2013-07-31  "
            ]
          },
          "execution_count": 3,
          "metadata": {},
          "output_type": "execute_result"
        }
      ],
      "source": [
        "df.sample(5)"
      ]
    }
  ],
  "metadata": {
    "colab": {
      "provenance": []
    },
    "kernelspec": {
      "display_name": "Python 3",
      "language": "python",
      "name": "python3"
    },
    "language_info": {
      "codemirror_mode": {
        "name": "ipython",
        "version": 3
      },
      "file_extension": ".py",
      "mimetype": "text/x-python",
      "name": "python",
      "nbconvert_exporter": "python",
      "pygments_lexer": "ipython3",
      "version": "3.13.2"
    }
  },
  "nbformat": 4,
  "nbformat_minor": 5
}
